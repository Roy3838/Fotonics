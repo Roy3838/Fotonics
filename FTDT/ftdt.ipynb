{
 "cells": [
  {
   "cell_type": "code",
   "execution_count": 9,
   "metadata": {},
   "outputs": [
    {
     "ename": "LoadError",
     "evalue": "SystemError: opening file \"/home/jay/Photonics/FTDT/ftdt.jl\": No such file or directory",
     "output_type": "error",
     "traceback": [
      "SystemError: opening file \"/home/jay/Photonics/FTDT/ftdt.jl\": No such file or directory",
      "",
      "Stacktrace:",
      " [1] include(fname::String)",
      "   @ Base.MainInclude ./client.jl:489",
      " [2] top-level scope",
      "   @ In[9]:1"
     ]
    }
   ],
   "source": [
    "include(\"Photonics/FTDT/ftdt.jl\")\n",
    "using .FTDT_LIB\n",
    "\n",
    "#\n",
    "\n",
    "########################################################################\n",
    "# Se define la geometría en la ventana numérica principal\n",
    "#######################################################################\n",
    "\n",
    "# Se agregan objetos en el medio\n",
    "casoMaterial = \"vacio\";\n",
    "if casoMaterial==\"vacio\"\n",
    "  idx = 1:je;\n",
    "  idy = 1:ie;\n",
    "  medioProp = epsz;\n",
    "\n",
    "simular(medioProp, idx, idy)\n"
   ]
  }
 ],
 "metadata": {
  "kernelspec": {
   "display_name": "Julia 1.10.2",
   "language": "julia",
   "name": "julia-1.10"
  },
  "language_info": {
   "file_extension": ".jl",
   "mimetype": "application/julia",
   "name": "julia",
   "version": "1.10.2"
  }
 },
 "nbformat": 4,
 "nbformat_minor": 2
}
