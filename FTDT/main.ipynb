{
  "cells": [
    {
      "cell_type": "code",
      "execution_count": 6,
      "metadata": {
        "jukit_cell_id": "NONE"
      },
      "outputs": [
        {
          "name": "stderr",
          "output_type": "stream",
          "text": [
            "WARNING: replacing module FTDT_LIB.\n",
            "WARNING: both FTDT_LIB and FTDT_LIB export \"simular\"; uses of it in module Main must be qualified\n"
          ]
        },
        {
          "ename": "UndefVarError",
          "evalue": "UndefVarError: `simular` not defined",
          "output_type": "error",
          "traceback": [
            "UndefVarError: `simular` not defined\n",
            "\n",
            "Stacktrace:\n",
            " [1] top-level scope\n",
            "   @ ~/Photonics/FTDT/main.ipynb:42"
          ]
        }
      ],
      "source": [
        "include(\"ftdt.jl\")\n",
        "using .FTDT_LIB\n",
        "\n",
        "#\n",
        "\n",
        "########################################################################\n",
        "# Se define la geometría en la ventana numérica principal\n",
        "#######################################################################\n",
        "und = 1*10^-6;                       # Unidad espacial\n",
        "unt = 1*10^0;                       # Unidad temporal\n",
        "\n",
        "epsz = (8.854187817*10^-12)*((und^3)/(unt^4)); \n",
        "muz = (4*pi*1e-7)*((unt^2)/und);\n",
        "etaz=sqrt(muz/epsz);\n",
        "cc =  sqrt(1/(epsz*muz));\n",
        "\n",
        "freq=3.3e+14*(unt);                        # Frecuencia de la fuente de campo\n",
        "lambda=cc/freq;                     # Longitud de onda de la fuente de campo \n",
        "omega=2.0*pi*freq;                  # Frecuencia en radiandes\n",
        "\n",
        "dx = lambda/20;#(100e-3)*und;                             # Diferencial espacial\n",
        "\n",
        "ventNum = round.([30*10^-3 15*10^-3]/und*dx,RoundUp)\n",
        "\n",
        "\n",
        "\n",
        "ie= Int(ventNum[2]);                                     # nodos en y\n",
        "je= Int(ventNum[1]);  \n",
        "\n",
        "\n",
        "# Se agregan objetos en el medio\n",
        "casoMaterial = \"vacio\";\n",
        "if casoMaterial==\"vacio\"\n",
        "  idx = 1:je;\n",
        "  idy = 1:ie;\n",
        "  medioProp = epsz;\n",
        "\n",
        "end\n",
        "\n",
        "simular(medioProp, idx, idy)"
      ]
    }
  ],
  "metadata": {
    "anaconda-cloud": {},
    "kernelspec": {
      "display_name": "Julia 1.10.2",
      "language": "julia",
      "name": "julia-1.10"
    },
    "language_info": {
      "file_extension": ".jl",
      "mimetype": "application/julia",
      "name": "julia",
      "version": "1.10.2"
    }
  },
  "nbformat": 4,
  "nbformat_minor": 4
}
